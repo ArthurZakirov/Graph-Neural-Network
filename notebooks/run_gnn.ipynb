{
 "cells": [
  {
   "cell_type": "code",
   "execution_count": 498,
   "id": "805f2e48",
   "metadata": {},
   "outputs": [],
   "source": [
    "import torch\n",
    "import torch.nn as nn\n",
    "from torch import inverse\n",
    "\n",
    "import torch_geometric as tg\n",
    "import torch_geometric.nn as gnn\n",
    "from torch_geometric.data import Data, Batch, Dataset, DataLoader\n",
    "\n",
    "\n",
    "from torch_geometric.nn import MessagePassing\n",
    "from torch_geometric.utils import add_self_loops, degree, to_dense_adj"
   ]
  },
  {
   "cell_type": "code",
   "execution_count": null,
   "id": "626bf0c1",
   "metadata": {},
   "outputs": [
    {
     "data": {
      "text/plain": [
       "torch.Size([5, 1])"
      ]
     },
     "execution_count": 160,
     "metadata": {},
     "output_type": "execute_result"
    }
   ],
   "source": [
    "edges = torch.tensor([[0,1,2,3,4],[1,2,3,4,1]])\n",
    "x = torch.tensor([[10,20,30,40,50]]).T\n",
    "G = Data(x = x, edge_index = edges)\n",
    "batch = Batch.from_data_list([G, G, G])\n"
   ]
  }
 ],
 "metadata": {
  "interpreter": {
   "hash": "33048c8138bb533ac200817d706f60445c911eeb15adf8cb34f1d04d82d65c85"
  },
  "kernelspec": {
   "display_name": "Python 3.9.7 ('DL_env')",
   "language": "python",
   "name": "python3"
  },
  "language_info": {
   "codemirror_mode": {
    "name": "ipython",
    "version": 3
   },
   "file_extension": ".py",
   "mimetype": "text/x-python",
   "name": "python",
   "nbconvert_exporter": "python",
   "pygments_lexer": "ipython3",
   "version": "3.9.7"
  }
 },
 "nbformat": 4,
 "nbformat_minor": 5
}
